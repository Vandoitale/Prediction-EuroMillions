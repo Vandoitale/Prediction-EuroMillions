{
 "cells": [
  {
   "cell_type": "code",
   "execution_count": 179,
   "metadata": {},
   "outputs": [],
   "source": [
    "import pandas as pd\n",
    "from sklearn import model_selection, ensemble\n",
    "import random"
   ]
  },
  {
   "cell_type": "code",
   "execution_count": 180,
   "metadata": {},
   "outputs": [],
   "source": [
    "\n",
    "\n",
    "def PrepData(path):\n",
    "    \"\"\"\n",
    "    Prepares data before its usage, only works for data with the same format as the sample csv provided\n",
    "\n",
    "    Args:\n",
    "        path: relative path to the data file in csv format\n",
    "\n",
    "    Returns:\n",
    "        Panda dataframe with some wrong numbers added in\n",
    "    \"\"\"\n",
    "\n",
    "    #Gathering relevant data in  pd dataframe\n",
    "    data = pd.read_csv(path,sep=\";\")\n",
    "    data = data[[\"N1\",\"N2\",\"N3\",\"N4\",\"N5\",\"E1\",\"E2\",\"Winner\"]]\n",
    "\n",
    "    #Changing all winning numbers to 1\n",
    "    data[\"Winner\"] = data[\"Winner\"].apply(lambda x : 1)\n",
    "    \n",
    "    data = data.rename(columns={\"Winner\":\"Y\"})\n",
    "\n",
    "    #Generating a large (Number of winning numbers * 4) number of losing numbers, and adding them to the dataframe\n",
    "    for i in range(data.shape[0]*4):\n",
    "        tba = pd.DataFrame([[random.randint(1,50),random.randint(1,50),random.randint(1,50),random.randint(1,50),random.randint(1,50),random.randint(1,12),random.randint(1,12),0]],columns=[\"N1\",\"N2\",\"N3\",\"N4\",\"N5\",\"E1\",\"E2\",\"Y\"])\n",
    "        data = data.append(tba)\n",
    "\n",
    "    return data\n",
    "\n",
    "data = PrepData(\"EuroMillions_numbers.csv\")"
   ]
  },
  {
   "cell_type": "code",
   "execution_count": 181,
   "metadata": {},
   "outputs": [],
   "source": [
    "def PrepDatasets(data, test_size=0.2):\n",
    "    \"\"\"\n",
    "    Prepares training and test datasets for the model\n",
    "\n",
    "    Args:\n",
    "        data : panda dataframe to make the datasets from\n",
    "        test_size : the percentage of the size the test dataset will be, \n",
    "        for example test_size=0.3 will return a test dataset containing 30% of the original data.shape\n",
    "        Equals 0.2 by default\n",
    "\n",
    "    Returns:\n",
    "        X_train, Y_train : training dataset and its results\n",
    "        X_test, Y_test : test dataset and its results\n",
    "    \"\"\"\n",
    "    \n",
    "    data_train, data_test = model_selection.train_test_split(data, test_size=test_size)\n",
    "\n",
    "    X_train = data_train[[\"N1\",\"N2\",\"N3\",\"N4\",\"N5\",\"E1\",\"E2\"]].values\n",
    "    Y_train = data_train[\"Y\"].values\n",
    "\n",
    "    X_test = data_test[[\"N1\",\"N2\",\"N3\",\"N4\",\"N5\",\"E1\",\"E2\"]].values\n",
    "    Y_test = data_test[\"Y\"].values\n",
    "\n",
    "    return (X_train, Y_train, X_test, Y_test)\n",
    "\n",
    "(X_train, Y_train, X_test, Y_test) = PrepDatasets(data)"
   ]
  },
  {
   "cell_type": "code",
   "execution_count": 182,
   "metadata": {},
   "outputs": [],
   "source": [
    "#Defining the model, we're using a random forest classifier here.\n",
    "model = ensemble.RandomForestClassifier(max_depth=5, random_state=0)"
   ]
  },
  {
   "cell_type": "code",
   "execution_count": 183,
   "metadata": {},
   "outputs": [],
   "source": [
    "#Training the model...\n",
    "model.fit(X_train,Y_train)\n",
    "\n",
    "def UserGuess():\n",
    "    \"\"\"\n",
    "    Makes the user specify their guess they wish to have predicted\n",
    "\n",
    "    Args:\n",
    "        None\n",
    "\n",
    "    Returns:\n",
    "        2D Array with the user's guesses in.\n",
    "    \"\"\"\n",
    "\n",
    "    guess = []\n",
    "    res = []\n",
    "    guess.append(int(input(\"Enter the first number between 1 and 50 :\\n\")))\n",
    "    guess.append(int(input(\"Enter the second number between 1 and 50 :\\n\")))\n",
    "    guess.append(int(input(\"Enter the third number between 1 and 50 :\\n\")))\n",
    "    guess.append(int(input(\"Enter the fourth number between 1 and 50 :\\n\")))\n",
    "    guess.append(int(input(\"Enter the fifth number between 1 and 50 :\\n\")))\n",
    "    guess.append(int(input(\"Enter the first star number between 1 and 12 :\\n\")))\n",
    "    guess.append(int(input(\"Enter the second star number between 1 and 12 :\\n\")))\n",
    "    res.append(guess)\n",
    "    return res\n",
    "\n",
    "def UserPrediction(guess, model_trained=model):\n",
    "    \"\"\"\n",
    "    Predicts the odds of win and loss based on the user's guess and prints them\n",
    "\n",
    "    Args:\n",
    "        guess : 2D Array with the guesses\n",
    "        model_trained : The model to use for the prediction, by default our own trained model\n",
    "\n",
    "    Returns:\n",
    "        Null\n",
    "    \"\"\"\n",
    "    predicted = model_trained.predict_proba(guess)\n",
    "    print(\"Chance of winning : \",round(predicted[0][1]*100,2),\"%\")\n",
    "    print(\"Chance of losing : \",round(predicted[0][0]*100,2),\"%\")"
   ]
  }
 ],
 "metadata": {
  "interpreter": {
   "hash": "e299ddc17e2c556e83c225caf92265e102d776b2fa23089f0109848ee3d1e8d3"
  },
  "kernelspec": {
   "display_name": "Python 3.9.0 64-bit ('DeepLearning': pyenv)",
   "language": "python",
   "name": "python3"
  },
  "language_info": {
   "codemirror_mode": {
    "name": "ipython",
    "version": 3
   },
   "file_extension": ".py",
   "mimetype": "text/x-python",
   "name": "python",
   "nbconvert_exporter": "python",
   "pygments_lexer": "ipython3",
   "version": "3.9.0"
  },
  "orig_nbformat": 4
 },
 "nbformat": 4,
 "nbformat_minor": 2
}
